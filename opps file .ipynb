{
 "cells": [
  {
   "cell_type": "code",
   "execution_count": 1,
   "id": "0f995165",
   "metadata": {},
   "outputs": [],
   "source": [
    "a = 1"
   ]
  },
  {
   "cell_type": "code",
   "execution_count": 2,
   "id": "5b62bd56",
   "metadata": {},
   "outputs": [
    {
     "name": "stdout",
     "output_type": "stream",
     "text": [
      "<class 'int'>\n"
     ]
    }
   ],
   "source": [
    "print(type(a))"
   ]
  },
  {
   "cell_type": "code",
   "execution_count": 3,
   "id": "6f7bc620",
   "metadata": {},
   "outputs": [
    {
     "name": "stdout",
     "output_type": "stream",
     "text": [
      "<class 'str'>\n"
     ]
    }
   ],
   "source": [
    "print(type('pwskill'))"
   ]
  },
  {
   "cell_type": "code",
   "execution_count": 4,
   "id": "59d836e6",
   "metadata": {},
   "outputs": [],
   "source": [
    "# how to create a class "
   ]
  },
  {
   "cell_type": "code",
   "execution_count": 5,
   "id": "3b0bd898",
   "metadata": {},
   "outputs": [],
   "source": [
    "class test :\n",
    "    pass"
   ]
  },
  {
   "cell_type": "code",
   "execution_count": 7,
   "id": "372e61fd",
   "metadata": {},
   "outputs": [],
   "source": [
    "# why I create class test "
   ]
  },
  {
   "cell_type": "code",
   "execution_count": 8,
   "id": "ab044c5c",
   "metadata": {},
   "outputs": [],
   "source": [
    "# when i create project  a  Then I have lot of modulo Than \n",
    "# I face unstructe moduco \n",
    "# Than Class is play good for that Class create a structure modulo to doveopment\n"
   ]
  },
  {
   "cell_type": "code",
   "execution_count": 9,
   "id": "0377d4bc",
   "metadata": {},
   "outputs": [],
   "source": [
    "a = test()"
   ]
  },
  {
   "cell_type": "code",
   "execution_count": 10,
   "id": "db4a6278",
   "metadata": {},
   "outputs": [
    {
     "data": {
      "text/plain": [
       "__main__.test"
      ]
     },
     "execution_count": 10,
     "metadata": {},
     "output_type": "execute_result"
    }
   ],
   "source": [
    "type(a)"
   ]
  },
  {
   "cell_type": "code",
   "execution_count": 12,
   "id": "cc024783",
   "metadata": {},
   "outputs": [
    {
     "name": "stdout",
     "output_type": "stream",
     "text": [
      "<class '__main__.test'>\n"
     ]
    }
   ],
   "source": [
    "print(type(a))"
   ]
  },
  {
   "cell_type": "code",
   "execution_count": 24,
   "id": "90fa7e54",
   "metadata": {},
   "outputs": [],
   "source": [
    "class pwskills :\n",
    "    \n",
    "    def welcome_msg(self):\n",
    "        print(\"welcome to pwskills\")"
   ]
  },
  {
   "cell_type": "code",
   "execution_count": 25,
   "id": "73854ad5",
   "metadata": {},
   "outputs": [],
   "source": [
    "rohan = pwskills()"
   ]
  },
  {
   "cell_type": "code",
   "execution_count": 26,
   "id": "1f2dc757",
   "metadata": {},
   "outputs": [
    {
     "name": "stdout",
     "output_type": "stream",
     "text": [
      "<class '__main__.pwskills'>\n"
     ]
    }
   ],
   "source": [
    "print(type(rohan))"
   ]
  },
  {
   "cell_type": "code",
   "execution_count": 27,
   "id": "215716a8",
   "metadata": {},
   "outputs": [
    {
     "name": "stdout",
     "output_type": "stream",
     "text": [
      "welcome to pwskills\n"
     ]
    }
   ],
   "source": [
    "rohan.welcome_msg()"
   ]
  },
  {
   "cell_type": "code",
   "execution_count": 28,
   "id": "c1e9bc58",
   "metadata": {},
   "outputs": [],
   "source": [
    "aman = pwskills()"
   ]
  },
  {
   "cell_type": "code",
   "execution_count": 29,
   "id": "6be2261d",
   "metadata": {},
   "outputs": [
    {
     "name": "stdout",
     "output_type": "stream",
     "text": [
      "welcome to pwskills\n"
     ]
    }
   ],
   "source": [
    "aman.welcome_msg()"
   ]
  },
  {
   "cell_type": "code",
   "execution_count": 56,
   "id": "8bf88a1d",
   "metadata": {},
   "outputs": [],
   "source": [
    "class pwskills1:\n",
    "    def __init__(self, phone_number, email_id, student_id):\n",
    "        self.phone_number = phone_number\n",
    "        self.email_id = email_id\n",
    "        self.student_id = student_id\n",
    "        \n",
    "    def return_student_details(self):\n",
    "        return self.student_id, self.phone_number, self.email_id\n"
   ]
  },
  {
   "cell_type": "code",
   "execution_count": 57,
   "id": "c2bc0b83",
   "metadata": {},
   "outputs": [],
   "source": [
    "rohan = pwskills1(912254261,\"amanmailboxgan@gmail.com\", 121)"
   ]
  },
  {
   "cell_type": "code",
   "execution_count": 58,
   "id": "805fcd51",
   "metadata": {},
   "outputs": [
    {
     "data": {
      "text/plain": [
       "(121, 912254261, 'amanmailboxgan@gmail.com')"
      ]
     },
     "execution_count": 58,
     "metadata": {},
     "output_type": "execute_result"
    }
   ],
   "source": [
    "rohan.return_student_details()"
   ]
  },
  {
   "cell_type": "code",
   "execution_count": 59,
   "id": "098cb7fc",
   "metadata": {},
   "outputs": [],
   "source": [
    "aman  = pwskills1(1,a,1)"
   ]
  },
  {
   "cell_type": "code",
   "execution_count": 60,
   "id": "d7d6dce2",
   "metadata": {},
   "outputs": [
    {
     "data": {
      "text/plain": [
       "(1, 1, <__main__.test at 0x1890bf4b8d0>)"
      ]
     },
     "execution_count": 60,
     "metadata": {},
     "output_type": "execute_result"
    }
   ],
   "source": [
    "aman.return_student_details()"
   ]
  },
  {
   "cell_type": "code",
   "execution_count": 61,
   "id": "465eadec",
   "metadata": {},
   "outputs": [
    {
     "data": {
      "text/plain": [
       "'amanmailboxgan@gmail.com'"
      ]
     },
     "execution_count": 61,
     "metadata": {},
     "output_type": "execute_result"
    }
   ],
   "source": [
    "rohan.email_id"
   ]
  },
  {
   "cell_type": "code",
   "execution_count": 62,
   "id": "494c3d8f",
   "metadata": {},
   "outputs": [
    {
     "data": {
      "text/plain": [
       "912254261"
      ]
     },
     "execution_count": 62,
     "metadata": {},
     "output_type": "execute_result"
    }
   ],
   "source": [
    "rohan.phone_number"
   ]
  },
  {
   "cell_type": "code",
   "execution_count": null,
   "id": "b85b45b9",
   "metadata": {},
   "outputs": [],
   "source": []
  }
 ],
 "metadata": {
  "kernelspec": {
   "display_name": "Python 3 (ipykernel)",
   "language": "python",
   "name": "python3"
  },
  "language_info": {
   "codemirror_mode": {
    "name": "ipython",
    "version": 3
   },
   "file_extension": ".py",
   "mimetype": "text/x-python",
   "name": "python",
   "nbconvert_exporter": "python",
   "pygments_lexer": "ipython3",
   "version": "3.11.3"
  }
 },
 "nbformat": 4,
 "nbformat_minor": 5
}
